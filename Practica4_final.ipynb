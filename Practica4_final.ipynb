{
 "cells": [
  {
   "cell_type": "code",
   "execution_count": 1,
   "id": "6c65ef63",
   "metadata": {},
   "outputs": [
    {
     "name": "stderr",
     "output_type": "stream",
     "text": [
      "23/05/22 10:03:23 WARN Utils: Your hostname, pclab051 resolves to a loopback address: 127.0.1.1; using 147.96.133.14 instead (on interface eno1)\n",
      "23/05/22 10:03:23 WARN Utils: Set SPARK_LOCAL_IP if you need to bind to another address\n",
      "WARNING: An illegal reflective access operation has occurred\n",
      "WARNING: Illegal reflective access by org.apache.spark.unsafe.Platform (file:/usr/local/lib/python3.10/dist-packages/pyspark/jars/spark-unsafe_2.12-3.2.1.jar) to constructor java.nio.DirectByteBuffer(long,int)\n",
      "WARNING: Please consider reporting this to the maintainers of org.apache.spark.unsafe.Platform\n",
      "WARNING: Use --illegal-access=warn to enable warnings of further illegal reflective access operations\n",
      "WARNING: All illegal access operations will be denied in a future release\n",
      "Using Spark's default log4j profile: org/apache/spark/log4j-defaults.properties\n",
      "Setting default log level to \"WARN\".\n",
      "To adjust logging level use sc.setLogLevel(newLevel). For SparkR, use setLogLevel(newLevel).\n",
      "23/05/22 10:03:24 WARN NativeCodeLoader: Unable to load native-hadoop library for your platform... using builtin-java classes where applicable\n",
      "23/05/22 10:03:24 WARN Utils: Service 'SparkUI' could not bind on port 4040. Attempting port 4041.\n",
      "23/05/22 10:03:24 WARN Utils: Service 'SparkUI' could not bind on port 4041. Attempting port 4042.\n"
     ]
    }
   ],
   "source": [
    "from pyspark import SparkContext\n",
    "sc = SparkContext()"
   ]
  },
  {
   "cell_type": "code",
   "execution_count": 2,
   "id": "f3738453",
   "metadata": {},
   "outputs": [],
   "source": [
    "import json"
   ]
  },
  {
   "cell_type": "code",
   "execution_count": 3,
   "id": "541f7872",
   "metadata": {},
   "outputs": [
    {
     "data": {
      "text/plain": [
       "{'_id': {'$oid': '5cf83b752f3843a016be4e2f'},\n",
       " 'user_day_code': 'e4d55deb9ac172a8d8f5f0a32599815bd51b7c8760d67e42b11adf7c0829341b',\n",
       " 'idplug_base': 21,\n",
       " 'user_type': 1,\n",
       " 'idunplug_base': 8,\n",
       " 'travel_time': 219,\n",
       " 'idunplug_station': 90,\n",
       " 'ageRange': 0,\n",
       " 'idplug_station': 66,\n",
       " 'unplug_hourTime': {'$date': '2019-06-01T00:00:00.000+0200'},\n",
       " 'zip_code': ''}"
      ]
     },
     "execution_count": 3,
     "metadata": {},
     "output_type": "execute_result"
    }
   ],
   "source": [
    "s = '{ \"_id\" : { \"$oid\" : \"5cf83b752f3843a016be4e2f\" }, \"user_day_code\" : \"e4d55deb9ac172a8d8f5f0a32599815bd51b7c8760d67e42b11adf7c0829341b\", \"idplug_base\" : 21, \"user_type\" : 1, \"idunplug_base\" : 8, \"travel_time\" : 219, \"idunplug_station\" : 90, \"ageRange\" : 0, \"idplug_station\" : 66, \"unplug_hourTime\" : { \"$date\" : \"2019-06-01T00:00:00.000+0200\" }, \"zip_code\" : \"\" }'\n",
    "data = json.loads(s)\n",
    "data"
   ]
  },
  {
   "cell_type": "code",
   "execution_count": 13,
   "id": "e24c35bc",
   "metadata": {},
   "outputs": [],
   "source": [
    "rdd_base = sc.textFile('sample_10e4.json')"
   ]
  },
  {
   "cell_type": "code",
   "execution_count": 41,
   "id": "cf079089",
   "metadata": {},
   "outputs": [
    {
     "name": "stdout",
     "output_type": "stream",
     "text": [
      "Estacion mas deficitaria: (108, -25)\n",
      "Estacion mas eficiente: (135, 35)\n"
     ]
    }
   ],
   "source": [
    "#buscar la estación más deficitaria y menos deficitaria\n",
    "def mapper(line):\n",
    "    data = json.loads(line)\n",
    "    start = data['idunplug_station']\n",
    "    end = data['idplug_station']\n",
    "    return start, end\n",
    "\n",
    "rdd = rdd_base.map(mapper)\n",
    "\n",
    "def contar(elem):\n",
    "    return [(elem[0],-1),(elem[1],1)]\n",
    "\n",
    "#funcón que calcula el minimo entre dos tuplas o listas, comparando el segundo elemento    \n",
    "def mimin(x,y):\n",
    "    if x[1]==min(x[1],y[1]):\n",
    "        return x\n",
    "    else:\n",
    "        return y\n",
    "#funcón que calcula el maximo entre dos tuplas o listas, comparando el segundo elemento\n",
    "def mimax(x,y):\n",
    "    if x[1]==min(x[1],y[1]):\n",
    "        return y\n",
    "    else:\n",
    "        return x\n",
    "\n",
    "\n",
    "print('Estacion mas deficitaria:',rdd.flatMap(lambda x: contar(x)).reduceByKey(lambda x,y:x+y).reduce(mimin))\n",
    "print('Estacion mas eficiente:',rdd.flatMap(lambda x: contar(x)).reduceByKey(lambda x,y:x+y).reduce(mimax))"
   ]
  },
  {
   "cell_type": "code",
   "execution_count": 10,
   "id": "319b66b9",
   "metadata": {},
   "outputs": [
    {
     "data": {
      "text/plain": [
       "[(3, 2),\n",
       " (175, 2),\n",
       " (42, 1),\n",
       " (136, 1),\n",
       " (43, 1),\n",
       " (49, 1),\n",
       " (113, 1),\n",
       " (133, 2),\n",
       " (134, 1),\n",
       " (171, 1),\n",
       " (69, 1),\n",
       " (77, 2),\n",
       " (90, 1),\n",
       " (155, 1),\n",
       " (50, 1),\n",
       " (115, 2),\n",
       " (6, 1),\n",
       " (45, 1),\n",
       " (21, 1),\n",
       " (129, 1),\n",
       " (82, 1),\n",
       " (165, 1),\n",
       " (47, 1),\n",
       " (172, 1),\n",
       " (152, 1),\n",
       " (79, 1),\n",
       " (169, 1),\n",
       " (111, 1),\n",
       " (57, 2),\n",
       " (58, 1),\n",
       " (13, 1),\n",
       " (127, 1),\n",
       " (148, 1)]"
      ]
     },
     "execution_count": 10,
     "metadata": {},
     "output_type": "execute_result"
    }
   ],
   "source": [
    "#obtenemos que la más deficitaria es la 108 y la menos la 135\n",
    "\n",
    "\n",
    "d1=rdd.filter(lambda x: x[1]==135).countByKey() \n",
    "#diccionario en el que las llaves son las estaciones desde las que salen bicis hacia la 135 y \n",
    "#los valores el número de bicis que llegan desde esas estaciones\n",
    "\n",
    "\n",
    "def flip(x):\n",
    "    return (x[1],x[0])\n",
    "\n",
    "d2=rdd.filter(lambda x: x[0]==108).map(flip).countByKey()\n",
    "#diccionario en el que las llaves son las estaciones a las que van las bicis que salen desde la 108 y \n",
    "#los valores el número de bicis que llegan a esas estaciones\n",
    "\n",
    "#dados los diccionarios anteriores, devuelve una lista de tuplas. El primer elemento de cada \n",
    "#son las estaciones por las que pasa una bici que sale de la estacion 108 y llega a la 135\n",
    "# y el sgundo elemento es el número de bicis que hacen ese recorrido\n",
    "def traspaso_bicis(d1,d2):\n",
    "    \n",
    "    lst=[]\n",
    "    for i in d1.keys():\n",
    "        if i in d2.keys():\n",
    "            lst.append((i,min(d1[i],d2[i])))\n",
    "    return lst\n",
    "\n",
    "traspaso_bicis(d1,d2)"
   ]
  },
  {
   "cell_type": "code",
   "execution_count": 46,
   "id": "d79887e9",
   "metadata": {},
   "outputs": [
    {
     "name": "stdout",
     "output_type": "stream",
     "text": [
      "Estaciones y suma del tiempo de viaje de las bicis que salen de esas estaciones:\n",
      "[(40, 35063), (136, 79945), (18, 42426), (124, 54737), (128, 87212), (92, 22784), (134, 75751), (56, 84538), (162, 204835), (64, 150274), (100, 27149), (102, 49792), (138, 23336), (156, 62810), (54, 58983), (140, 59274), (30, 64532), (10, 57532), (84, 44950), (116, 37674), (74, 72947), (106, 71582), (34, 31393), (160, 107908), (166, 82468), (20, 31985), (96, 35826), (26, 53551), (126, 51620), (146, 46986), (62, 50428), (168, 117632), (38, 63307), (86, 71390), (112, 31407), (66, 40113), (78, 67739), (24, 28423), (6, 105107), (158, 26810), (170, 72191), (52, 87201), (174, 50709), (90, 79906), (46, 43792), (164, 61897), (104, 20767), (114, 63154), (4, 21327), (42, 71286), (44, 62649), (110, 46774), (72, 32902), (32, 40746), (172, 76407), (2, 59709), (152, 28103), (132, 150561), (88, 26307), (120, 17424), (76, 118939), (150, 36180), (142, 45069), (94, 41661), (144, 26045), (16, 53567), (82, 106617), (130, 28126), (148, 62800), (12, 46581), (50, 49580), (58, 81567), (80, 45404), (118, 62084), (36, 20889), (60, 28123), (108, 127541), (48, 51557), (14, 43686), (154, 50006), (8, 52754), (122, 24637), (28, 21823), (98, 41588), (22, 8561), (111, 43401), (51, 32140), (45, 105443), (165, 37164), (159, 45097), (43, 139193), (33, 42322), (149, 112870), (163, 141588), (103, 96755), (63, 52211), (93, 204949), (47, 38963), (71, 36276), (133, 122526), (95, 62800), (23, 67928), (77, 63934), (125, 41457), (21, 51973), (13, 41089), (147, 56848), (69, 56204), (17, 58053), (135, 183383), (53, 82378), (57, 130527), (65, 56165), (99, 46281), (7, 49211), (9, 81063), (175, 141629), (73, 68930), (107, 26347), (25, 31234), (145, 65390), (129, 162129), (35, 35198), (91, 92425), (55, 63854), (121, 27097), (131, 57418), (161, 59953), (137, 72905), (143, 20598), (171, 68467), (67, 40905), (113, 60918), (39, 28159), (123, 68700), (49, 107515), (19, 53688), (109, 24498), (1, 86836), (31, 52914), (27, 38503), (117, 47689), (141, 30857), (79, 102342), (83, 103692), (11, 24806), (173, 187713), (127, 33012), (3, 68493), (81, 59006), (169, 73275), (139, 91817), (101, 24570), (105, 26247), (167, 52469), (75, 65766), (157, 45567), (59, 83047), (115, 55692), (37, 25687), (29, 14917), (61, 31517), (119, 22103), (85, 54369), (5, 26473), (155, 106696), (89, 53626), (15, 32474), (41, 87802), (153, 37475), (87, 36670), (97, 13582), (151, 25146)]\n",
      "\n",
      "\n",
      "Tiempo de viaje de las bicis que salen de la estacion 108: 127541\n",
      "\n",
      "\n",
      "Tiempo de viaje de las bicis que salen de la estacion 135: 183383\n",
      "\n",
      "\n",
      "Estacion desde la que salen las bicis con el maximo de tiempo de viaje:\n",
      "(93, 204949)\n",
      "\n",
      "\n",
      "Estacion desde la que salen las bicis con el minimo de tiempo de viaje:\n",
      "(22, 8561)\n",
      "\n",
      "\n",
      "[(162, 204835), (64, 150274), (160, 107908), (168, 117632), (6, 105107), (132, 150561), (76, 118939), (82, 106617), (108, 127541), (45, 105443), (43, 139193), (149, 112870), (163, 141588), (93, 204949), (133, 122526), (135, 183383), (57, 130527), (175, 141629), (129, 162129), (49, 107515), (79, 102342), (83, 103692), (173, 187713), (155, 106696)]\n"
     ]
    }
   ],
   "source": [
    "# nos quedamos con los datos de las estaciones de las que salen las bicis y el tiempo que han estado fuera.\n",
    "def mapper1(line):\n",
    "    data = json.loads(line)\n",
    "    start = data['idunplug_station']\n",
    "    time = data['travel_time']\n",
    "    return start, time\n",
    "\n",
    "#sumamos todos los tiempos de las bicis que salen de cada estacion\n",
    "rdd1 = rdd_base.map(mapper1).reduceByKey(lambda x,y:x+y)\n",
    "print(\"Estaciones y suma del tiempo de viaje de las bicis que salen de esas estaciones:\")\n",
    "print(rdd1.collect())\n",
    "print(\"\\n\")\n",
    "#vemos los tiempos de viaje de las bicis que salen de la estacion 108 y 135\n",
    "rdd_108=rdd1.filter(lambda x: x[0]==108)\n",
    "rdd_135=rdd1.filter(lambda x: x[0]==135)\n",
    "print(\"Tiempo de viaje de las bicis que salen de la estacion 108:\", rdd_108.collect()[0][1])\n",
    "\n",
    "print(\"\\n\")\n",
    "print(\"Tiempo de viaje de las bicis que salen de la estacion 135:\", rdd_135.collect()[0][1])\n",
    "\n",
    "print(\"\\n\")\n",
    "\n",
    "\n",
    "rdd2=rdd1.reduce(mimax)\n",
    "rdd3=rdd1.reduce(mimin)\n",
    "print(\"Estacion desde la que salen las bicis con el maximo de tiempo de viaje:\", rdd2)\n",
    "\n",
    "print(\"\\n\")\n",
    "print(\"Estacion desde la que salen las bicis con el minimo de tiempo de viaje:\", rdd3)\n",
    "print(\"\\n\")\n",
    "print(rdd1.filter(lambda x: x[1]>100000).collect())"
   ]
  },
  {
   "cell_type": "code",
   "execution_count": null,
   "id": "b49ccaf2",
   "metadata": {},
   "outputs": [],
   "source": []
  },
  {
   "cell_type": "code",
   "execution_count": 39,
   "id": "7fc56917",
   "metadata": {},
   "outputs": [
    {
     "name": "stdout",
     "output_type": "stream",
     "text": [
      "[(40, 855), (136, 1038), (18, 902), (124, 1272), (128, 1162), (92, 712), (134, 1306), (56, 1083), (162, 2090), (64, 1502), (100, 696), (102, 1214), (138, 1060), (156, 937), (54, 1156), (140, 1288), (30, 733), (10, 927), (84, 736), (116, 819), (74, 1042), (106, 994), (34, 784), (160, 1057), (166, 1071), (20, 666), (96, 778), (26, 733), (126, 992), (146, 2042), (62, 752), (168, 1188), (38, 727), (86, 1065), (112, 1013), (66, 853), (78, 954), (24, 617), (6, 1040), (158, 670), (170, 913), (52, 1194), (174, 1102), (90, 823), (46, 973), (164, 695), (104, 988), (114, 986), (4, 561), (42, 1018), (44, 1080), (110, 835), (72, 913), (32, 866), (172, 1123), (2, 1218), (152, 906), (132, 1601), (88, 907), (120, 829), (76, 2477), (150, 1573), (142, 901), (94, 1016), (144, 1085), (16, 1190), (82, 1284), (130, 721), (148, 1427), (12, 846), (50, 1377), (58, 1007), (80, 945), (118, 1320), (36, 746), (60, 1339), (108, 1275), (48, 1052), (14, 840), (154, 926), (8, 850), (122, 912), (28, 1558), (98, 1039), (22, 1712), (111, 1205), (51, 868), (45, 1004), (165, 884), (159, 1099), (43, 1113), (33, 863), (149, 917), (163, 1041), (103, 1511), (63, 900), (93, 4998), (47, 763), (71, 636), (133, 1155), (95, 951), (23, 943), (77, 1162), (125, 987), (21, 980), (13, 622), (147, 1457), (69, 952), (17, 1000), (135, 1467), (53, 1083), (57, 858), (65, 769), (99, 723), (7, 757), (9, 910), (175, 1445), (73, 1188), (107, 612), (25, 918), (145, 1486), (129, 1286), (35, 748), (91, 1467), (55, 1082), (121, 732), (131, 775), (161, 881), (137, 1518), (143, 664), (171, 1630), (67, 757), (113, 823), (39, 625), (123, 1321), (49, 1119), (19, 715), (109, 583), (1, 859), (31, 715), (27, 962), (117, 1324), (141, 964), (79, 1248), (83, 1080), (11, 751), (173, 8532), (127, 786), (3, 1022), (81, 1134), (169, 872), (139, 1391), (101, 702), (105, 771), (167, 807), (75, 1060), (157, 843), (59, 830), (115, 732), (37, 755), (29, 710), (61, 1050), (119, 736), (85, 1359), (5, 802), (155, 1667), (89, 1031), (15, 877), (41, 1083), (153, 797), (87, 965), (97, 543), (151, 1143)]\n",
      "Estacion con el mayor tiempo medio:  173\n",
      "Estacion con el menor tiempo medio:  97\n",
      "Basándonos en los resultados anteriores, vemos que las estaciones con mayor y menor tiempo medio no coinciden con las de mayor y menor tiempo total.\n"
     ]
    }
   ],
   "source": [
    "#Estudiamos el tiempo medio de viaje de las bicis que salen de cada estación.\n",
    "def mapper1(line):\n",
    "    data = json.loads(line)\n",
    "    start = data['idunplug_station']\n",
    "    time = data['travel_time']\n",
    "    return start, time\n",
    "\n",
    "#calculamos una lista con tuplas con la estación de la que salen las bicis y el tiempo medio de cada una.\n",
    "bici=rdd_base.map(mapper1).groupByKey().map(lambda x: (x[0],sum(x[1])//len(x[1])))\n",
    "print(bici.collect())\n",
    "\n",
    "#En base a todos los datos, cual es la estacion con el mayor tiempo medio\n",
    "mayor_uso=bici.reduce(mimax)[0]\n",
    "print(\"Estacion con el mayor tiempo medio: \", mayor_uso)\n",
    "#En base a todos los datos, cual es la estacion con el menor tiempo medio\n",
    "menor_uso=bici.reduce(mimin)[0]\n",
    "print(\"Estacion con el menor tiempo medio: \", menor_uso)\n",
    "\n",
    "print(\"Basándonos en los resultados anteriores, vemos que las estaciones con mayor y menor tiempo medio no coinciden con las de mayor y menor tiempo total.\")\n",
    "\n",
    "#print(rdd1.filter(lambda x: x[1]>10000).collect())\n",
    "#print(bici2.filter(lambda x: x[1]>120).collect())\n",
    "#Vistos los resultados no sale ninguna relación  entre los resultados anteriores"
   ]
  },
  {
   "cell_type": "code",
   "execution_count": 42,
   "id": "bd91b114",
   "metadata": {},
   "outputs": [
    {
     "name": "stdout",
     "output_type": "stream",
     "text": [
      "Usuarios que pertenecen a Madrid capital:\n",
      "6288\n",
      "Usuarios que no pertenecen a Madrid capital:\n",
      "279\n"
     ]
    }
   ],
   "source": [
    "#Vamos a obtener el número de gente que es de madrid y de fuera en base al zip_code (codigo postal)\n",
    "#el cual nos da dicha informacion\n",
    "def mapper1(line):\n",
    "    data = json.loads(line)\n",
    "    start = data['idunplug_station']\n",
    "    codigo = data['zip_code']\n",
    "    return codigo, start\n",
    "\n",
    "#Primero agrupamos en base al codigo postal\n",
    "rddd1 = rdd_base.map(mapper1).countByKey()#.filter(lambda x: x[0]=='28004')\n",
    "\n",
    "#Calculamos los usuarios que pertenecen a Madrid capital\n",
    "def de_Madrid():\n",
    "    conteo=0\n",
    "    for i in rddd1.keys():\n",
    "        if i!='' and len(i)>4 and i[2]=='0':\n",
    "            conteo+=rddd1[i]\n",
    "    return conteo\n",
    "\n",
    "#Calculamos los usuarios que pertenecen a fuera de Madrid capital\n",
    "def fuera_de_Madrid():\n",
    "    conteo=0\n",
    "    for i in rddd1.keys():\n",
    "        if i!='' and len(i)>4 and i[2]!='0':\n",
    "            conteo+=rddd1[i]\n",
    "    return conteo\n",
    "\n",
    "Madrid=de_Madrid()\n",
    "No_Madrid=fuera_de_Madrid()\n",
    "\n",
    "print('Usuarios que pertenecen a Madrid capital:')\n",
    "print(Madrid)\n",
    "print('Usuarios que no pertenecen a Madrid capital:')\n",
    "print(No_Madrid)"
   ]
  },
  {
   "cell_type": "code",
   "execution_count": null,
   "id": "25ef039d",
   "metadata": {},
   "outputs": [],
   "source": []
  },
  {
   "cell_type": "code",
   "execution_count": null,
   "id": "dca05786",
   "metadata": {},
   "outputs": [],
   "source": []
  },
  {
   "cell_type": "code",
   "execution_count": null,
   "id": "e5ebf447",
   "metadata": {},
   "outputs": [],
   "source": []
  },
  {
   "cell_type": "code",
   "execution_count": null,
   "id": "ad3db35b",
   "metadata": {},
   "outputs": [],
   "source": []
  },
  {
   "cell_type": "code",
   "execution_count": null,
   "id": "f14c032a",
   "metadata": {},
   "outputs": [],
   "source": []
  }
 ],
 "metadata": {
  "kernelspec": {
   "display_name": "Python 3 (ipykernel)",
   "language": "python",
   "name": "python3"
  },
  "language_info": {
   "codemirror_mode": {
    "name": "ipython",
    "version": 3
   },
   "file_extension": ".py",
   "mimetype": "text/x-python",
   "name": "python",
   "nbconvert_exporter": "python",
   "pygments_lexer": "ipython3",
   "version": "3.10.6"
  }
 },
 "nbformat": 4,
 "nbformat_minor": 5
}
